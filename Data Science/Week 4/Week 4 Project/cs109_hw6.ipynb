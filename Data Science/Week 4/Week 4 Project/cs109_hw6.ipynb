{
 "cells": [
  {
   "cell_type": "markdown",
   "metadata": {},
   "source": [
    "# CS 109A/STAT 121A/AC 209A/CSCI E-109A: Homework 6\n",
    "# Reg-Logistic Regression, ROC, and Data Imputation\n",
    "\n",
    "**Harvard University**<br/>\n",
    "**Fall 2017**<br/>\n",
    "**Instructors**: Pavlos Protopapas, Kevin Rader, Rahul Dave, Margo Levine\n",
    "\n",
    "---\n",
    "\n",
    "### INSTRUCTIONS\n",
    "\n",
    "- To submit your assignment follow the instructions given in canvas.\n",
    "- Restart the kernel and run the whole notebook again before you submit. \n",
    "- Do not include your name(s) in the notebook if you are submitting as a group. \n",
    "- If you submit individually and you have worked with someone, please include the name of your [one] partner below. \n",
    "\n",
    "---"
   ]
  },
  {
   "cell_type": "markdown",
   "metadata": {},
   "source": [
    "Your partner's name (if you submit separately):\n",
    "\n",
    "Enrollment Status (109A, 121A, 209A, or E109A):"
   ]
  },
  {
   "cell_type": "markdown",
   "metadata": {},
   "source": [
    "Import libraries:"
   ]
  },
  {
   "cell_type": "code",
   "execution_count": 1,
   "metadata": {},
   "outputs": [],
   "source": [
    "\n",
    "import numpy as np\n",
    "import pandas as pd\n",
    "import matplotlib\n",
    "\n",
    "import matplotlib.pyplot as plt\n",
    "from sklearn.linear_model import LogisticRegressionCV\n",
    "import sklearn.metrics as metrics\n",
    "from sklearn.preprocessing import PolynomialFeatures\n",
    "from sklearn.discriminant_analysis import LinearDiscriminantAnalysis\n",
    "from sklearn.discriminant_analysis import QuadraticDiscriminantAnalysis\n",
    "from sklearn.neighbors import KNeighborsClassifier\n",
    "from sklearn.tree import DecisionTreeClassifier\n",
    "from sklearn.model_selection import cross_val_score\n",
    "from sklearn.metrics import accuracy_score\n",
    "\n",
    "from sklearn.tree import export_graphviz\n",
    "from IPython.display import Image\n",
    "from IPython.display import display\n",
    "%matplotlib inline"
   ]
  },
  {
   "cell_type": "code",
   "execution_count": 2,
   "metadata": {},
   "outputs": [],
   "source": [
    "df = pd.read_csv(\"hw6_dataset.csv\")"
   ]
  },
  {
   "cell_type": "code",
   "execution_count": 3,
   "metadata": {},
   "outputs": [
    {
     "data": {
      "text/plain": [
       "FrozenList([None])"
      ]
     },
     "execution_count": 3,
     "metadata": {},
     "output_type": "execute_result"
    }
   ],
   "source": [
    "df.columns.names"
   ]
  },
  {
   "cell_type": "markdown",
   "metadata": {},
   "source": [
    "## Automated Breast Cancer Detection\n",
    "\n",
    "In this homework, we will consider the problem of early breast cancer detection from X-ray images. Specifically, given a candidate region of interest (ROI) from an X-ray image of a patient's breast, the goal is to predict if the region corresponds to a malignant tumor (label 1) or is normal (label 0). The training and test data sets for this problem is provided in the file `hw6_dataset.csv`. Each row in these files corresponds to a ROI in a patient's X-ray, with columns 1-117 containing features computed using standard image processing algorithms. The last column contains the class label, and is based on a radiologist's opinion or a biopsy. This data was obtained from the KDD Cup 2008 challenge.\n",
    "\n",
    "The data set contain a total of 69,098 candidate ROIs, of which only 409 are malignant, while the remaining are all normal. \n",
    "\n",
    "*Note*: be careful of reading/treating column names and row names in this data set."
   ]
  },
  {
   "cell_type": "markdown",
   "metadata": {},
   "source": [
    "## Question 1: Beyond Classification Accuracy\n",
    "\n",
    "\n",
    "0.  Split the data set into a training set and a testing set.  The training set should be 75% of the original data set, and the testing set 25%.  Use `np.random.seed(9001)`.\n",
    "\n",
    "1. Fit a logistic regression classifier to the training set and report the  accuracy of the classifier on the test set. You should use $L_2$ regularization in logistic regression, with the regularization parameter tuned using cross-validation. \n",
    "    1. How does the fitted model compare with a classifier that predicts 'normal' (label 0) on all patients? \n",
    "    2. Do you think the difference in the classification accuracies are large enough to declare logistic regression as a better classifier than the all 0's classifier? Why or why not?\n",
    "    \n",
    "For applications with imbalanced class labels, in this case when there are many more healthy subjects ($Y=0$) than those with cancer ($Y=1$), the classification accuracy may not be the best metric to evaluate a classifier's performance. As an alternative, we could analyze the confusion table for the classifier. \n",
    "\n",
    "<ol start=\"3\">\n",
    "<li> Compute the confusion table for both the fitted classifier and the classifier that predicts all 0's.</li>\n",
    "<li> Using the entries of the confusion table compute the *true positive rate* and the *true negative rate* for the two classifiers. Explain what these evaluation metrics mean for the specific task of cancer detection. Based on the observed metrics, comment on whether the fitted model is better than the all 0's classifier.</li>\n",
    "<li> What is the *false positive rate* of the fitted classifier, and how is it related to its true positive and true negative rate? Why is a classifier with high false positive rate undesirable for a cancer detection task?</li>\n",
    "</ol>\n",
    "*Hint:* You may use the `metrics.confusion_matrix` function to compute the confusion matrix for a classification model."
   ]
  },
  {
   "cell_type": "code",
   "execution_count": 4,
   "metadata": {},
   "outputs": [],
   "source": [
    "np.random.seed(9001)"
   ]
  },
  {
   "cell_type": "code",
   "execution_count": 5,
   "metadata": {},
   "outputs": [
    {
     "data": {
      "text/plain": [
       "array([ True, False, False, ...,  True, False,  True])"
      ]
     },
     "execution_count": 5,
     "metadata": {},
     "output_type": "execute_result"
    }
   ],
   "source": [
    "\n",
    "msk = np.random.rand(len(df)) < 0.75\n",
    "msk"
   ]
  },
  {
   "cell_type": "code",
   "execution_count": 6,
   "metadata": {},
   "outputs": [],
   "source": [
    "data_train = df[msk]\n",
    "data_test = df[~msk]\n",
    "orig_columns = list(data_train.columns.values)\n",
    "new_columns = []"
   ]
  },
  {
   "cell_type": "code",
   "execution_count": 7,
   "metadata": {},
   "outputs": [],
   "source": [
    "for x in range (len(orig_columns) - 1):\n",
    "    #print(orig_columns[x])\n",
    "    index_of_e = orig_columns[x].index('e')\n",
    "    revised_string = orig_columns[x][:index_of_e + 4]\n",
    "    #print(revised_string)\n",
    "    converted_string = float(revised_string)\n",
    "    new_columns.append(str(converted_string))\n",
    "new_columns.append('Class Label')"
   ]
  },
  {
   "cell_type": "code",
   "execution_count": 8,
   "metadata": {},
   "outputs": [
    {
     "name": "stdout",
     "output_type": "stream",
     "text": [
      "['-0.144', '-0.143', '-0.116', '-0.103', '0.226', '0.21', '-0.98', '-0.78', '-0.474', '-0.447', '-0.143', '-0.0524', '0.26', '0.209', '-0.212', '0.57', '-0.939', '-0.398', '0.395', '0.414', '0.00498', '1.31', '-0.955', '0.706', '0.952', '0.81', '1.01', '-0.66', '0.813', '-0.429', '1.54', '0.171', '0.825', '0.755', '0.15', '0.505', '-0.235', '-0.219', '-0.128', '-1.03', '0.16', '0.259', '0.321', '0.536', '-0.466', '-0.25', '-1.27', '-0.744', '-0.736', '-1.24', '-0.726', '-1.39', '-0.631', '-0.0929', '-0.0882', '-0.0834', '-0.0745', '0.471', '0.907', '-0.749', '-1.24', '-0.741', '-0.72', '-0.707', '-0.698', '0.0627', '0.32', '-0.483', '0.677', '0.728', '-1.23', '0.776', '-0.669', '-0.159', '-0.162', '-0.169', '-0.656', '0.953', '0.408', '-0.982', '-0.986', '-0.137', '0.179', '0.267', '0.28', '-1.23', '-1.21', '-1.19', '0.448', '1.55', '1.55', '1.55', '0.357', '-0.945', '-0.137', '-1.28', '-1.41', '-0.896', '-0.667', '-1.01', '-0.56', '-0.563', '-0.566', '-0.804', '-0.618', '0.0344', '0.426', '-0.738', '0.925', '0.516', '0.344', '0.906', '-1.13', '-0.552', '0.553', '-0.417', '0.256', 'Class Label']\n"
     ]
    }
   ],
   "source": [
    "\n",
    "print(new_columns)"
   ]
  },
  {
   "cell_type": "code",
   "execution_count": 9,
   "metadata": {},
   "outputs": [
    {
     "data": {
      "text/html": [
       "<div>\n",
       "<style scoped>\n",
       "    .dataframe tbody tr th:only-of-type {\n",
       "        vertical-align: middle;\n",
       "    }\n",
       "\n",
       "    .dataframe tbody tr th {\n",
       "        vertical-align: top;\n",
       "    }\n",
       "\n",
       "    .dataframe thead th {\n",
       "        text-align: right;\n",
       "    }\n",
       "</style>\n",
       "<table border=\"1\" class=\"dataframe\">\n",
       "  <thead>\n",
       "    <tr style=\"text-align: right;\">\n",
       "      <th></th>\n",
       "      <th>-0.144</th>\n",
       "      <th>-0.143</th>\n",
       "      <th>-0.116</th>\n",
       "      <th>-0.103</th>\n",
       "      <th>0.226</th>\n",
       "      <th>0.21</th>\n",
       "      <th>-0.98</th>\n",
       "      <th>-0.78</th>\n",
       "      <th>-0.474</th>\n",
       "      <th>-0.447</th>\n",
       "      <th>...</th>\n",
       "      <th>0.925</th>\n",
       "      <th>0.516</th>\n",
       "      <th>0.344</th>\n",
       "      <th>0.906</th>\n",
       "      <th>-1.13</th>\n",
       "      <th>-0.552</th>\n",
       "      <th>0.553</th>\n",
       "      <th>-0.417</th>\n",
       "      <th>0.256</th>\n",
       "      <th>Class Label</th>\n",
       "    </tr>\n",
       "  </thead>\n",
       "  <tbody>\n",
       "    <tr>\n",
       "      <th>0</th>\n",
       "      <td>-0.0110</td>\n",
       "      <td>0.138</td>\n",
       "      <td>-0.223</td>\n",
       "      <td>-0.1730</td>\n",
       "      <td>0.188</td>\n",
       "      <td>0.284</td>\n",
       "      <td>-0.0522</td>\n",
       "      <td>-0.256</td>\n",
       "      <td>0.129</td>\n",
       "      <td>0.427</td>\n",
       "      <td>...</td>\n",
       "      <td>-0.593</td>\n",
       "      <td>0.4520</td>\n",
       "      <td>0.00785</td>\n",
       "      <td>-0.533</td>\n",
       "      <td>-0.0789</td>\n",
       "      <td>0.705</td>\n",
       "      <td>0.906</td>\n",
       "      <td>0.216</td>\n",
       "      <td>-0.0723</td>\n",
       "      <td>0.0</td>\n",
       "    </tr>\n",
       "    <tr>\n",
       "      <th>3</th>\n",
       "      <td>0.2790</td>\n",
       "      <td>-0.197</td>\n",
       "      <td>0.127</td>\n",
       "      <td>0.0973</td>\n",
       "      <td>-0.213</td>\n",
       "      <td>-0.150</td>\n",
       "      <td>-1.3200</td>\n",
       "      <td>-0.994</td>\n",
       "      <td>-1.110</td>\n",
       "      <td>-1.090</td>\n",
       "      <td>...</td>\n",
       "      <td>-0.640</td>\n",
       "      <td>0.4850</td>\n",
       "      <td>0.29500</td>\n",
       "      <td>0.403</td>\n",
       "      <td>-1.1200</td>\n",
       "      <td>-0.343</td>\n",
       "      <td>0.468</td>\n",
       "      <td>-0.820</td>\n",
       "      <td>0.4350</td>\n",
       "      <td>0.0</td>\n",
       "    </tr>\n",
       "    <tr>\n",
       "      <th>5</th>\n",
       "      <td>0.0569</td>\n",
       "      <td>0.192</td>\n",
       "      <td>0.302</td>\n",
       "      <td>0.2720</td>\n",
       "      <td>-0.484</td>\n",
       "      <td>-0.473</td>\n",
       "      <td>0.3480</td>\n",
       "      <td>0.256</td>\n",
       "      <td>-0.607</td>\n",
       "      <td>-0.355</td>\n",
       "      <td>...</td>\n",
       "      <td>0.206</td>\n",
       "      <td>-0.0599</td>\n",
       "      <td>-1.07000</td>\n",
       "      <td>-0.536</td>\n",
       "      <td>0.8640</td>\n",
       "      <td>0.527</td>\n",
       "      <td>0.282</td>\n",
       "      <td>0.817</td>\n",
       "      <td>-0.2830</td>\n",
       "      <td>0.0</td>\n",
       "    </tr>\n",
       "    <tr>\n",
       "      <th>6</th>\n",
       "      <td>0.0184</td>\n",
       "      <td>0.101</td>\n",
       "      <td>-0.681</td>\n",
       "      <td>-0.5900</td>\n",
       "      <td>1.530</td>\n",
       "      <td>1.500</td>\n",
       "      <td>-0.5560</td>\n",
       "      <td>-0.428</td>\n",
       "      <td>-0.583</td>\n",
       "      <td>-0.772</td>\n",
       "      <td>...</td>\n",
       "      <td>0.124</td>\n",
       "      <td>0.3070</td>\n",
       "      <td>0.35700</td>\n",
       "      <td>-0.380</td>\n",
       "      <td>0.1580</td>\n",
       "      <td>0.846</td>\n",
       "      <td>0.704</td>\n",
       "      <td>0.760</td>\n",
       "      <td>-0.1250</td>\n",
       "      <td>0.0</td>\n",
       "    </tr>\n",
       "    <tr>\n",
       "      <th>9</th>\n",
       "      <td>-0.0748</td>\n",
       "      <td>-0.432</td>\n",
       "      <td>0.923</td>\n",
       "      <td>0.7930</td>\n",
       "      <td>-1.040</td>\n",
       "      <td>-1.010</td>\n",
       "      <td>-1.9500</td>\n",
       "      <td>-1.560</td>\n",
       "      <td>-0.590</td>\n",
       "      <td>-0.575</td>\n",
       "      <td>...</td>\n",
       "      <td>-1.270</td>\n",
       "      <td>1.3600</td>\n",
       "      <td>0.38700</td>\n",
       "      <td>1.290</td>\n",
       "      <td>-1.2100</td>\n",
       "      <td>-2.050</td>\n",
       "      <td>-0.357</td>\n",
       "      <td>-2.540</td>\n",
       "      <td>0.7670</td>\n",
       "      <td>0.0</td>\n",
       "    </tr>\n",
       "  </tbody>\n",
       "</table>\n",
       "<p>5 rows × 118 columns</p>\n",
       "</div>"
      ],
      "text/plain": [
       "   -0.144  -0.143  -0.116  -0.103  0.226   0.21   -0.98  -0.78  -0.474  \\\n",
       "0 -0.0110   0.138  -0.223 -0.1730  0.188  0.284 -0.0522 -0.256   0.129   \n",
       "3  0.2790  -0.197   0.127  0.0973 -0.213 -0.150 -1.3200 -0.994  -1.110   \n",
       "5  0.0569   0.192   0.302  0.2720 -0.484 -0.473  0.3480  0.256  -0.607   \n",
       "6  0.0184   0.101  -0.681 -0.5900  1.530  1.500 -0.5560 -0.428  -0.583   \n",
       "9 -0.0748  -0.432   0.923  0.7930 -1.040 -1.010 -1.9500 -1.560  -0.590   \n",
       "\n",
       "   -0.447  ...  0.925   0.516    0.344  0.906   -1.13  -0.552  0.553  -0.417  \\\n",
       "0   0.427  ... -0.593  0.4520  0.00785 -0.533 -0.0789   0.705  0.906   0.216   \n",
       "3  -1.090  ... -0.640  0.4850  0.29500  0.403 -1.1200  -0.343  0.468  -0.820   \n",
       "5  -0.355  ...  0.206 -0.0599 -1.07000 -0.536  0.8640   0.527  0.282   0.817   \n",
       "6  -0.772  ...  0.124  0.3070  0.35700 -0.380  0.1580   0.846  0.704   0.760   \n",
       "9  -0.575  ... -1.270  1.3600  0.38700  1.290 -1.2100  -2.050 -0.357  -2.540   \n",
       "\n",
       "    0.256  Class Label  \n",
       "0 -0.0723          0.0  \n",
       "3  0.4350          0.0  \n",
       "5 -0.2830          0.0  \n",
       "6 -0.1250          0.0  \n",
       "9  0.7670          0.0  \n",
       "\n",
       "[5 rows x 118 columns]"
      ]
     },
     "execution_count": 9,
     "metadata": {},
     "output_type": "execute_result"
    }
   ],
   "source": [
    "data_train.columns = new_columns\n",
    "data_test.columns = new_columns\n",
    "\n",
    "data_train.head()"
   ]
  },
  {
   "cell_type": "code",
   "execution_count": 10,
   "metadata": {},
   "outputs": [],
   "source": [
    "\n",
    "y_train = data_train['Class Label'].values\n",
    "X_train = data_train.values"
   ]
  },
  {
   "cell_type": "code",
   "execution_count": 11,
   "metadata": {},
   "outputs": [],
   "source": [
    "y_test = data_test['Class Label'].values\n",
    "X_test = data_test.values"
   ]
  },
  {
   "cell_type": "code",
   "execution_count": 12,
   "metadata": {},
   "outputs": [
    {
     "name": "stderr",
     "output_type": "stream",
     "text": [
      "c:\\python37-32\\lib\\site-packages\\sklearn\\linear_model\\logistic.py:758: ConvergenceWarning: lbfgs failed to converge. Increase the number of iterations.\n",
      "  \"of iterations.\", ConvergenceWarning)\n"
     ]
    }
   ],
   "source": [
    "from sklearn.linear_model import LogisticRegression\n",
    "\n",
    "clf = LogisticRegression(random_state=0, solver='lbfgs', multi_class='multinomial').fit(X_train, y_train)"
   ]
  },
  {
   "cell_type": "code",
   "execution_count": 13,
   "metadata": {},
   "outputs": [
    {
     "name": "stdout",
     "output_type": "stream",
     "text": [
      "\n",
      "\n",
      "The coefficients\n",
      "The optimized L2 regularization paramater id: [[-5.44112643e-03  6.80647340e-04  3.09151186e-01  2.66953924e-01\n",
      "  -1.84133578e-01 -1.66968937e-01  7.06328181e-02 -9.76875390e-04\n",
      "   5.53104703e-02 -3.22575838e-02 -2.99078382e-02  7.84676684e-02\n",
      "  -1.18637125e-01  1.52506100e-02  2.05448170e-02 -1.68288473e-02\n",
      "  -5.53465465e-02 -5.91006263e-02 -7.16507927e-02 -4.36696151e-02\n",
      "   8.61663582e-02  3.19947384e-02  5.75566840e-02 -2.36848016e-02\n",
      "   1.59849211e-01 -1.73521932e-02  2.18425052e-02 -6.60583532e-02\n",
      "  -6.52913394e-03 -2.83762160e-02 -1.57706215e-02  2.74831879e-02\n",
      "   1.16871223e-01  4.17356567e-02  4.09838165e-02 -3.16392812e-02\n",
      "   4.34994434e-02  3.88653403e-02 -1.36868076e-02 -2.00794928e-02\n",
      "   8.78438472e-03  1.85816929e-02  2.39887008e-02 -2.89970336e-02\n",
      "   8.17872241e-03  1.46585765e-02  5.59168225e-02 -1.06716367e-01\n",
      "  -1.03819008e-01 -3.72279610e-02 -1.05758897e-01  5.48134209e-02\n",
      "   1.74203144e-02 -2.94514582e-02 -2.35360147e-02 -1.97738753e-02\n",
      "  -1.38576921e-02  1.45179424e-01 -1.32841062e-01  4.72822818e-02\n",
      "  -2.76402799e-02  4.62919130e-02  4.17222112e-02  4.84105693e-02\n",
      "   5.15668355e-02 -8.89933554e-03  1.37275562e-01 -5.69475158e-02\n",
      "  -7.31069899e-03  7.91418463e-03 -1.52106450e-02  2.01235590e-02\n",
      "   2.47168192e-02  5.81707127e-03  4.55310047e-03  4.08188484e-03\n",
      "   2.52352013e-02  4.55703178e-02  7.16881205e-03  3.48021042e-02\n",
      "   3.62131828e-02 -2.08225470e-02  1.45393290e-02 -7.23993534e-03\n",
      "   1.56994323e-02  1.49385618e-02  2.94821702e-02  5.96936554e-02\n",
      "   9.89906082e-02 -2.65988044e-02 -2.97292348e-02 -2.93848654e-02\n",
      "  -4.43875331e-02 -4.09123864e-02 -7.07904412e-04 -1.36288411e-01\n",
      "  -2.92442954e-02 -2.03006727e-02 -3.08392005e-02  4.47929394e-02\n",
      "   9.14511305e-02  5.38592410e-02 -9.84717113e-02 -2.93443422e-02\n",
      "   4.14347281e-02 -2.75407294e-02 -4.60361367e-02  1.92264860e-02\n",
      "   4.07218914e-02 -3.62250031e-02 -4.31197968e-02 -9.81130733e-02\n",
      "  -3.79692207e-02 -3.33385272e-02  6.89783791e-03  1.67030027e-02\n",
      "  -3.32208895e-02  5.69723853e+00]]\n",
      "Estimated beta0: \n",
      " [-5.0554142]\n"
     ]
    }
   ],
   "source": [
    "print('\\n')\n",
    "print(\"The coefficients\")\n",
    "print(\"The optimized L2 regularization paramater id:\", clf.coef_)\n",
    "print('Estimated beta0: \\n', clf.intercept_)"
   ]
  },
  {
   "cell_type": "code",
   "execution_count": 14,
   "metadata": {},
   "outputs": [],
   "source": [
    "\n",
    "#scoring\n",
    "clf_y_pred_test = clf.predict(X_test)\n",
    "test_df = pd.DataFrame(clf_y_pred_test)"
   ]
  },
  {
   "cell_type": "code",
   "execution_count": 15,
   "metadata": {},
   "outputs": [
    {
     "name": "stdout",
     "output_type": "stream",
     "text": [
      "\n",
      "\n",
      "malignant:  103.0\n"
     ]
    }
   ],
   "source": [
    "Total = test_df[0].sum()\n",
    "print('\\n')\n",
    "print(\"malignant: \", Total)"
   ]
  },
  {
   "cell_type": "code",
   "execution_count": 16,
   "metadata": {},
   "outputs": [],
   "source": [
    "\n",
    "test_df['All Normal'] = 0"
   ]
  },
  {
   "cell_type": "code",
   "execution_count": 17,
   "metadata": {},
   "outputs": [],
   "source": [
    "\n",
    "# Reset indexes so copy will work\n",
    "test_df = test_df.reset_index(drop=True)\n",
    "data_test = data_test.reset_index(drop=True)\n",
    "test_df['Class Label'] = data_test['Class Label']"
   ]
  },
  {
   "cell_type": "code",
   "execution_count": 18,
   "metadata": {},
   "outputs": [],
   "source": [
    "def parameters(source_data, prediction_data):\n",
    "    false_negative = 0\n",
    "    false_positive = 0\n",
    "    correct_assessment = 0\n",
    "    for result in range(0, len(prediction_data)):\n",
    "        if int(prediction_data[result]) == 1 and int(source_data[result]) == 0:\n",
    "            false_positive += 1\n",
    "        if int(prediction_data[result]) == 0 and int(source_data[result]) == 1:\n",
    "            false_negative += 1\n",
    "        if (int(prediction_data[result]) == 1 and int(source_data[result]) == 1) or (int(prediction_data[result]) == 0 and int(source_data[result]) == 0):\n",
    "            correct_assessment += 1\n",
    "    print ()\n",
    "    print (\"False Positives: \", false_positive)\n",
    "    print (\"False Negatives: \", false_negative)\n",
    "    print (\"Correct Assessment: \", correct_assessment)\n",
    "\n",
    "    print (\"Classification Accuracy: \", 1 - (false_positive + false_negative) / len(source_data))"
   ]
  },
  {
   "cell_type": "code",
   "execution_count": 19,
   "metadata": {},
   "outputs": [
    {
     "name": "stdout",
     "output_type": "stream",
     "text": [
      "\n",
      "\n",
      "Classifier applied to Test Set:\n",
      "\n",
      "False Positives:  0\n",
      "False Negatives:  1\n",
      "Correct Assessment:  17087\n",
      "Classification Accuracy:  0.9999414794007491\n",
      "[[16984     0]\n",
      " [    1   103]]\n"
     ]
    }
   ],
   "source": [
    "\n",
    "# Confusion Matrix\n",
    "from sklearn.metrics import confusion_matrix\n",
    "print('\\n')\n",
    "print('Classifier applied to Test Set:') \n",
    "parameters(test_df['Class Label'], test_df[0])\n",
    "print(confusion_matrix(y_test, clf.predict(X_test)))"
   ]
  },
  {
   "cell_type": "code",
   "execution_count": 20,
   "metadata": {},
   "outputs": [
    {
     "name": "stdout",
     "output_type": "stream",
     "text": [
      "\n",
      "\n",
      "Classifier that predicts all normal:\n",
      "\n",
      "False Positives:  0\n",
      "False Negatives:  104\n",
      "Correct Assessment:  16984\n",
      "Classification Accuracy:  0.9939138576779026\n",
      "[[16984     0]\n",
      " [  104     0]]\n"
     ]
    }
   ],
   "source": [
    "\n",
    "print('\\n')\n",
    "print('Classifier that predicts all normal:')\n",
    "parameters(test_df['Class Label'], test_df['All Normal'])\n",
    "print(confusion_matrix(y_test, test_df['All Normal']))"
   ]
  },
  {
   "cell_type": "markdown",
   "metadata": {},
   "source": [
    "## Question 2: ROC Analysis\n",
    "\n",
    "Another powerful diagnostic tool for class-imbalanced classification tasks is the Receiver Operating Characteristic (ROC) curve. Notice that the default logistic regression classifier in `sklearn` classifies a data point by thresholding the predicted class probability $\\hat{P}(Y=1)$ at 0.5. By using a different threshold, we can adjust the trade-off between the true positive rate (TPR) and false positive rate (FPR) of the classifier. The ROC curve allows us to visualize this trade-off across all possible thresholds.\n",
    "\n",
    "\n",
    "1. Display the ROC curve for the fitted classifier on the *test set*. In the same plot, also display the ROC curve for the all 0's classifier. How do the two curves compare?\n",
    "\n",
    "2.  Compute the highest TPR that can be achieved by the classifier at each of the following FPR's, and the thresholds at which they are achieved. Based on your results, comment on how the threshold influences a classifier's FPR.\n",
    "    - FPR = 0\n",
    "    - FPR = 0.1\n",
    "    - FPR = 0.5\n",
    "    - FPR = 0.9\n",
    "- Suppose a clinician told you that diagnosing a cancer patient as normal is *twice* as critical an error as diagnosing a normal patient as having cancer. Based on this information, what threshold would you recommend the clinician to use? What is the TPR and FPR of the classifier at this threshold? \n",
    "\n",
    "- Compute the area under the ROC curve (AUC) for both the fitted classifier and the all 0's classifier. How does the difference in the AUCs of the two classifiers compare with the difference between their classification accuracies in Question 1, Part 2(A)? \n",
    "\n",
    "*Hint:* You may use the `metrics.roc_curve` function to compute the ROC curve for a classification model and the `metrics.roc_auc_score` function to compute the AUC for the model."
   ]
  },
  {
   "cell_type": "code",
   "execution_count": 21,
   "metadata": {},
   "outputs": [],
   "source": [
    "from sklearn import metrics"
   ]
  },
  {
   "cell_type": "code",
   "execution_count": 22,
   "metadata": {},
   "outputs": [
    {
     "data": {
      "image/png": "[encoded data removed]",
      "text/plain": [
       "<Figure size 432x288 with 1 Axes>"
      ]
     },
     "metadata": {
      "needs_background": "light"
     },
     "output_type": "display_data"
    }
   ],
   "source": [
    "##Computing false and true positive rates\n",
    "fpr, tpr,_= metrics.roc_curve(clf.predict(X_train),y_train,drop_intermediate=False)\n",
    "\n",
    "import matplotlib.pyplot as plt\n",
    "plt.figure()\n",
    "##Adding the ROC\n",
    "plt.plot(fpr, tpr, color='red',\n",
    " lw=2, label='ROC curve')\n",
    "##Random FPR and TPR\n",
    "plt.plot([0, 1], [0, 1], color='blue', lw=2, linestyle='--')\n",
    "##Title and label\n",
    "plt.xlabel('FPR')\n",
    "plt.ylabel('TPR')\n",
    "plt.title('ROC curve')\n",
    "plt.show()"
   ]
  },
  {
   "cell_type": "code",
   "execution_count": 23,
   "metadata": {},
   "outputs": [
    {
     "data": {
      "text/plain": [
       "17088"
      ]
     },
     "execution_count": 23,
     "metadata": {},
     "output_type": "execute_result"
    }
   ],
   "source": [
    "\n",
    "len(clf.predict_proba(X_test)[:,1])"
   ]
  },
  {
   "cell_type": "code",
   "execution_count": 24,
   "metadata": {},
   "outputs": [],
   "source": [
    "fprs = [0,.1,.5,.9]\n",
    "fpr, tpr, thresholds= metrics.roc_curve(y_test, clf.predict_proba(X_test)[:,1])"
   ]
  },
  {
   "cell_type": "code",
   "execution_count": 25,
   "metadata": {},
   "outputs": [
    {
     "name": "stdout",
     "output_type": "stream",
     "text": [
      "fpr  [0.00000000e+00 0.00000000e+00 0.00000000e+00 5.88789449e-05\n",
      " 5.88789449e-05 3.47385775e-02 3.48563354e-02 1.16933585e-01\n",
      " 1.17051342e-01 5.95089496e-01 5.95207254e-01 8.25836081e-01\n",
      " 8.25953839e-01 1.00000000e+00]\n"
     ]
    }
   ],
   "source": [
    "print(\"fpr \", fpr)"
   ]
  },
  {
   "cell_type": "code",
   "execution_count": 26,
   "metadata": {},
   "outputs": [
    {
     "name": "stdout",
     "output_type": "stream",
     "text": [
      "tpr  [0.         0.00961538 0.99038462 0.99038462 1.         1.\n",
      " 1.         1.         1.         1.         1.         1.\n",
      " 1.         1.        ]\n"
     ]
    }
   ],
   "source": [
    "\n",
    "print(\"tpr \", tpr)"
   ]
  },
  {
   "cell_type": "code",
   "execution_count": 27,
   "metadata": {},
   "outputs": [
    {
     "name": "stdout",
     "output_type": "stream",
     "text": [
      "thresholds:  [1.99971864e+00 9.99718640e-01 6.52279012e-01 1.83779197e-01\n",
      " 1.20818813e-01 5.07325558e-04 5.06839416e-04 2.35321108e-04\n",
      " 2.35225264e-04 3.35102444e-05 3.34997469e-05 1.07109018e-05\n",
      " 1.07066776e-05 4.84564853e-41]\n"
     ]
    }
   ],
   "source": [
    "\n",
    "print(\"thresholds: \", thresholds)"
   ]
  },
  {
   "cell_type": "markdown",
   "metadata": {
    "collapsed": true
   },
   "source": [
    "## Question 3: Missing data\n",
    "\n",
    "In this problem you are given a different data set, `hw6_dataset_missing.csv`, that is  similar to the one you used above (same column definitions and same conditions), however this data set contains missing values. \n",
    "\n",
    "*Note*: be careful of reading/treating column names and row names in this data set as well, it *may* be different than the first data set.\n",
    "\n",
    "\n",
    "1. Remove all observations that contain and missing values, split the dataset into a 75-25 train-test split, and fit the regularized logistic regression as in Question 1 (use `LogisticRegressionCV` again to retune).  Report the overall classification rate and TPR in the test set.\n",
    "2. Restart with a fresh copy of the data in `hw6_dataset_missing.csv` and impute the missing data via mean imputation.  Split the data 75-25 and fit the regularized logistic regression model.  Report the overall classification rate and TPR in the test set.  \n",
    "3. Again restart with a fresh copy of the data in `hw6_dataset_missing.csv` and impute the missing data via a model-based imputation method. Once again split the data 75-25 and fit the regularized logistic regression model.  Report the overall classification rate and TPR in the test set.  \n",
    "4. Compare the results in the 3 previous parts of this problem.  Prepare a paragraph (5-6 sentences) discussing the results, the computational complexity of the methods, and conjecture and explain why you get the results that you see.\n",
    "\n"
   ]
  },
  {
   "cell_type": "code",
   "execution_count": 28,
   "metadata": {},
   "outputs": [],
   "source": [
    "\n",
    "np.random.seed(9001)\n",
    "df = pd.read_csv('HW6_dataset_missing.csv')\n",
    "msk = np.random.rand(len(df)) < 0.75\n",
    "data_train = df[msk]\n",
    "data_test = df[~msk]\n",
    "data_train = data_train.dropna()\n",
    "data_test = data_test.dropna()"
   ]
  },
  {
   "cell_type": "code",
   "execution_count": 29,
   "metadata": {},
   "outputs": [
    {
     "data": {
      "text/html": [
       "<div>\n",
       "<style scoped>\n",
       "    .dataframe tbody tr th:only-of-type {\n",
       "        vertical-align: middle;\n",
       "    }\n",
       "\n",
       "    .dataframe tbody tr th {\n",
       "        vertical-align: top;\n",
       "    }\n",
       "\n",
       "    .dataframe thead th {\n",
       "        text-align: right;\n",
       "    }\n",
       "</style>\n",
       "<table border=\"1\" class=\"dataframe\">\n",
       "  <thead>\n",
       "    <tr style=\"text-align: right;\">\n",
       "      <th></th>\n",
       "      <th>Unnamed: 0</th>\n",
       "      <th>1</th>\n",
       "      <th>2</th>\n",
       "      <th>3</th>\n",
       "      <th>4</th>\n",
       "      <th>5</th>\n",
       "      <th>6</th>\n",
       "      <th>7</th>\n",
       "      <th>8</th>\n",
       "      <th>9</th>\n",
       "      <th>...</th>\n",
       "      <th>109</th>\n",
       "      <th>110</th>\n",
       "      <th>111</th>\n",
       "      <th>112</th>\n",
       "      <th>113</th>\n",
       "      <th>114</th>\n",
       "      <th>115</th>\n",
       "      <th>116</th>\n",
       "      <th>117</th>\n",
       "      <th>type</th>\n",
       "    </tr>\n",
       "  </thead>\n",
       "  <tbody>\n",
       "    <tr>\n",
       "      <th>0</th>\n",
       "      <td>0</td>\n",
       "      <td>0.1290</td>\n",
       "      <td>-0.2160</td>\n",
       "      <td>0.2880</td>\n",
       "      <td>0.2370</td>\n",
       "      <td>-0.993</td>\n",
       "      <td>-0.9550</td>\n",
       "      <td>-1.620</td>\n",
       "      <td>-1.470</td>\n",
       "      <td>-1.0100</td>\n",
       "      <td>...</td>\n",
       "      <td>-1.1900</td>\n",
       "      <td>1.1000</td>\n",
       "      <td>0.395</td>\n",
       "      <td>2.060</td>\n",
       "      <td>-1.180</td>\n",
       "      <td>-2.8500</td>\n",
       "      <td>-1.290</td>\n",
       "      <td>-2.100</td>\n",
       "      <td>0.0121</td>\n",
       "      <td>0.0</td>\n",
       "    </tr>\n",
       "    <tr>\n",
       "      <th>1</th>\n",
       "      <td>1</td>\n",
       "      <td>0.0989</td>\n",
       "      <td>0.1160</td>\n",
       "      <td>0.3130</td>\n",
       "      <td>0.2810</td>\n",
       "      <td>-0.188</td>\n",
       "      <td>-0.2790</td>\n",
       "      <td>0.173</td>\n",
       "      <td>0.445</td>\n",
       "      <td>0.4320</td>\n",
       "      <td>...</td>\n",
       "      <td>-0.0181</td>\n",
       "      <td>0.2480</td>\n",
       "      <td>-0.869</td>\n",
       "      <td>-0.190</td>\n",
       "      <td>0.451</td>\n",
       "      <td>0.6980</td>\n",
       "      <td>0.363</td>\n",
       "      <td>1.030</td>\n",
       "      <td>-0.2490</td>\n",
       "      <td>0.0</td>\n",
       "    </tr>\n",
       "    <tr>\n",
       "      <th>2</th>\n",
       "      <td>2</td>\n",
       "      <td>0.0215</td>\n",
       "      <td>0.1590</td>\n",
       "      <td>0.5790</td>\n",
       "      <td>0.5020</td>\n",
       "      <td>-0.342</td>\n",
       "      <td>-0.2740</td>\n",
       "      <td>-0.172</td>\n",
       "      <td>-0.164</td>\n",
       "      <td>0.2160</td>\n",
       "      <td>...</td>\n",
       "      <td>0.0702</td>\n",
       "      <td>0.0200</td>\n",
       "      <td>0.397</td>\n",
       "      <td>-0.800</td>\n",
       "      <td>0.173</td>\n",
       "      <td>0.7380</td>\n",
       "      <td>0.465</td>\n",
       "      <td>0.440</td>\n",
       "      <td>-0.2880</td>\n",
       "      <td>0.0</td>\n",
       "    </tr>\n",
       "    <tr>\n",
       "      <th>3</th>\n",
       "      <td>3</td>\n",
       "      <td>-0.2170</td>\n",
       "      <td>-0.3570</td>\n",
       "      <td>-0.0539</td>\n",
       "      <td>-0.0688</td>\n",
       "      <td>0.445</td>\n",
       "      <td>0.6380</td>\n",
       "      <td>0.436</td>\n",
       "      <td>0.351</td>\n",
       "      <td>0.0401</td>\n",
       "      <td>...</td>\n",
       "      <td>NaN</td>\n",
       "      <td>0.0622</td>\n",
       "      <td>0.269</td>\n",
       "      <td>-0.217</td>\n",
       "      <td>-1.030</td>\n",
       "      <td>0.0276</td>\n",
       "      <td>0.472</td>\n",
       "      <td>-0.390</td>\n",
       "      <td>0.3660</td>\n",
       "      <td>0.0</td>\n",
       "    </tr>\n",
       "    <tr>\n",
       "      <th>4</th>\n",
       "      <td>4</td>\n",
       "      <td>-0.0846</td>\n",
       "      <td>0.0166</td>\n",
       "      <td>0.4240</td>\n",
       "      <td>0.3520</td>\n",
       "      <td>-0.259</td>\n",
       "      <td>-0.0947</td>\n",
       "      <td>0.119</td>\n",
       "      <td>-0.162</td>\n",
       "      <td>0.3020</td>\n",
       "      <td>...</td>\n",
       "      <td>0.7190</td>\n",
       "      <td>0.3250</td>\n",
       "      <td>-0.286</td>\n",
       "      <td>-0.528</td>\n",
       "      <td>-0.704</td>\n",
       "      <td>0.8530</td>\n",
       "      <td>0.953</td>\n",
       "      <td>-0.116</td>\n",
       "      <td>-0.1190</td>\n",
       "      <td>0.0</td>\n",
       "    </tr>\n",
       "  </tbody>\n",
       "</table>\n",
       "<p>5 rows × 119 columns</p>\n",
       "</div>"
      ],
      "text/plain": [
       "   Unnamed: 0       1       2       3       4      5       6      7      8  \\\n",
       "0           0  0.1290 -0.2160  0.2880  0.2370 -0.993 -0.9550 -1.620 -1.470   \n",
       "1           1  0.0989  0.1160  0.3130  0.2810 -0.188 -0.2790  0.173  0.445   \n",
       "2           2  0.0215  0.1590  0.5790  0.5020 -0.342 -0.2740 -0.172 -0.164   \n",
       "3           3 -0.2170 -0.3570 -0.0539 -0.0688  0.445  0.6380  0.436  0.351   \n",
       "4           4 -0.0846  0.0166  0.4240  0.3520 -0.259 -0.0947  0.119 -0.162   \n",
       "\n",
       "        9  ...     109     110    111    112    113     114    115    116  \\\n",
       "0 -1.0100  ... -1.1900  1.1000  0.395  2.060 -1.180 -2.8500 -1.290 -2.100   \n",
       "1  0.4320  ... -0.0181  0.2480 -0.869 -0.190  0.451  0.6980  0.363  1.030   \n",
       "2  0.2160  ...  0.0702  0.0200  0.397 -0.800  0.173  0.7380  0.465  0.440   \n",
       "3  0.0401  ...     NaN  0.0622  0.269 -0.217 -1.030  0.0276  0.472 -0.390   \n",
       "4  0.3020  ...  0.7190  0.3250 -0.286 -0.528 -0.704  0.8530  0.953 -0.116   \n",
       "\n",
       "      117  type  \n",
       "0  0.0121   0.0  \n",
       "1 -0.2490   0.0  \n",
       "2 -0.2880   0.0  \n",
       "3  0.3660   0.0  \n",
       "4 -0.1190   0.0  \n",
       "\n",
       "[5 rows x 119 columns]"
      ]
     },
     "execution_count": 29,
     "metadata": {},
     "output_type": "execute_result"
    }
   ],
   "source": [
    "df.head()"
   ]
  },
  {
   "cell_type": "code",
   "execution_count": 30,
   "metadata": {},
   "outputs": [],
   "source": [
    "from sklearn.metrics import accuracy_score\n",
    "from sklearn.metrics import precision_score"
   ]
  },
  {
   "cell_type": "code",
   "execution_count": 31,
   "metadata": {},
   "outputs": [],
   "source": [
    "\n",
    "y_train = data_train['type'].values\n",
    "X_train = data_train.values\n",
    "y_train = y_train.reshape(len(y_train), 1)\n",
    "\n",
    "y_test = data_test['type'].values\n",
    "X_test = data_test.values\n",
    "y_test = y_test.reshape(len(y_test), 1)"
   ]
  },
  {
   "cell_type": "code",
   "execution_count": 32,
   "metadata": {},
   "outputs": [
    {
     "name": "stderr",
     "output_type": "stream",
     "text": [
      "c:\\python37-32\\lib\\site-packages\\sklearn\\utils\\validation.py:761: DataConversionWarning: A column-vector y was passed when a 1d array was expected. Please change the shape of y to (n_samples, ), for example using ravel().\n",
      "  y = column_or_1d(y, warn=True)\n",
      "c:\\python37-32\\lib\\site-packages\\sklearn\\linear_model\\logistic.py:758: ConvergenceWarning: lbfgs failed to converge. Increase the number of iterations.\n",
      "  \"of iterations.\", ConvergenceWarning)\n"
     ]
    }
   ],
   "source": [
    "from sklearn.linear_model import LogisticRegression\n",
    "\n",
    "clf = LogisticRegression(random_state=0, solver='lbfgs', multi_class='multinomial').fit(X_train, y_train)"
   ]
  },
  {
   "cell_type": "code",
   "execution_count": 33,
   "metadata": {},
   "outputs": [
    {
     "name": "stdout",
     "output_type": "stream",
     "text": [
      "\n",
      "\n",
      "Estimated beta1: \n",
      " [[-4.13489014e-04  4.63996231e-03 -9.69772292e-02 -2.11790292e-02\n",
      "  -3.13914133e-02 -8.03275225e-02 -5.36293902e-02  4.47310047e-02\n",
      "  -1.49850097e-01  6.49840832e-01  1.94022789e-01 -3.69744831e-01\n",
      "  -2.75776526e-01 -1.63111628e-01  2.11516191e-01 -1.98225632e-01\n",
      "  -1.10040523e-01 -1.85338328e-01 -2.95999729e-01  6.77996193e-02\n",
      "  -5.29917897e-01 -4.50853547e-01 -7.87468659e-02  1.17721867e-01\n",
      "   1.60288039e-01  1.32431940e-01 -4.07987434e-02  1.30656750e-01\n",
      "   9.52332611e-02  1.52523829e-01  7.97823021e-02  2.02422608e-01\n",
      "   2.89994259e-01  1.03606754e-01  1.23202153e-01 -1.76507305e-01\n",
      "  -1.52831287e-01  3.35492374e-02  4.16779510e-02  9.98360996e-02\n",
      "   1.82252967e-01 -1.00500359e-02 -6.34365447e-03  1.12747548e-02\n",
      "  -1.26803506e-01 -1.07549652e-01 -7.61272829e-02  1.80149778e-01\n",
      "   3.51154961e-02  3.90390349e-02 -1.17293538e-01  3.32939944e-02\n",
      "  -2.50578170e-01  5.21410621e-03  1.58513497e-02  5.50896144e-03\n",
      "  -2.01645725e-03 -1.38150435e-02  1.06724629e-01 -2.02031340e-01\n",
      "   1.10513240e-01 -1.20641576e-01  1.05608255e-01  9.63908367e-02\n",
      "   9.52847954e-02  9.72973087e-02 -3.34791129e-04 -4.28327846e-02\n",
      "  -3.14647143e-01 -1.86241344e-02 -9.46867233e-03 -1.07678455e-01\n",
      "   2.84994286e-04 -6.47292508e-02  7.26010131e-02  7.04556016e-02\n",
      "   6.82741301e-02 -1.33509039e-02 -2.66416165e-01 -1.69418294e-01\n",
      "   8.79435757e-02  7.13210275e-02  1.01921851e-02  9.31823382e-02\n",
      "  -1.37913669e-01 -1.50348856e-01 -5.88645440e-02 -5.52789406e-02\n",
      "  -4.38849609e-02 -5.97173255e-02 -1.93203921e-01 -1.90150341e-01\n",
      "  -1.90324453e-01 -7.96861209e-02  2.74480132e-03 -8.70530575e-02\n",
      "   1.43582484e-01 -2.58080760e-02  4.81753871e-03  5.49756182e-02\n",
      "   7.57512642e-02 -1.25479859e-01 -9.52783523e-02 -9.42835877e-02\n",
      "   1.41807665e-01 -6.74158935e-02  7.36024262e-03 -2.31993520e-01\n",
      "   3.88739886e-02 -3.15485879e-01 -8.64079318e-02 -2.43996798e-01\n",
      "   1.35362486e-01  1.45563641e-01 -3.63350691e-02  1.21936497e-01\n",
      "   2.67065038e-02 -1.26880425e-01  3.62037112e-01]]\n",
      "Estimated beta0: \n",
      " [-2.59706538]\n",
      "\n",
      "\n",
      "Test Set Confusion matrix:\n",
      "[[323   2]\n",
      " [  1   0]]\n",
      "The training classification accuracy is:  0.9990990990990991\n",
      "The testing classification accuracy is:  0.99079754601227\n",
      "The precision score on the test set is:  0.0\n"
     ]
    }
   ],
   "source": [
    "# L2 Regularization parameter\n",
    "print('\\n')\n",
    "# print(\"The optimized L2 regularization paramater id:\", clf.C_)\n",
    "\n",
    "# The coefficients\n",
    "print('Estimated beta1: \\n', clf.coef_)\n",
    "print('Estimated beta0: \\n', clf.intercept_)\n",
    "\n",
    "# Metrics\n",
    "print('\\n')\n",
    "print('Test Set Confusion matrix:') \n",
    "print(confusion_matrix(y_test, clf.predict(X_test)))\n",
    "\n",
    "train_score = clf.score(X_train, y_train)\n",
    "test_score = clf.score(X_test, y_test)\n",
    "y_prediction = clf.predict(X_test)\n",
    "test_precision = precision_score(y_test, y_prediction)\n",
    "print('The training classification accuracy is: ', train_score)\n",
    "print('The testing classification accuracy is: ', test_score)\n",
    "print('The precision score on the test set is: ', test_precision)"
   ]
  },
  {
   "cell_type": "code",
   "execution_count": 34,
   "metadata": {},
   "outputs": [],
   "source": [
    "#Split the data set into a training set and a testing set\n",
    "np.random.seed(9001)\n",
    "df_2 = pd.read_csv('HW6_dataset_missing.csv')\n",
    "msk = np.random.rand(len(df)) < 0.75\n",
    "data_train_2 = df_2[msk]\n",
    "data_test_2 = df_2[~msk]"
   ]
  },
  {
   "cell_type": "code",
   "execution_count": 35,
   "metadata": {},
   "outputs": [
    {
     "name": "stderr",
     "output_type": "stream",
     "text": [
      "c:\\python37-32\\lib\\site-packages\\ipykernel_launcher.py:2: SettingWithCopyWarning: \n",
      "A value is trying to be set on a copy of a slice from a DataFrame.\n",
      "Try using .loc[row_indexer,col_indexer] = value instead\n",
      "\n",
      "See the caveats in the documentation: http://pandas.pydata.org/pandas-docs/stable/user_guide/indexing.html#returning-a-view-versus-a-copy\n",
      "  \n",
      "c:\\python37-32\\lib\\site-packages\\ipykernel_launcher.py:4: SettingWithCopyWarning: \n",
      "A value is trying to be set on a copy of a slice from a DataFrame.\n",
      "Try using .loc[row_indexer,col_indexer] = value instead\n",
      "\n",
      "See the caveats in the documentation: http://pandas.pydata.org/pandas-docs/stable/user_guide/indexing.html#returning-a-view-versus-a-copy\n",
      "  after removing the cwd from sys.path.\n"
     ]
    }
   ],
   "source": [
    "for column in data_train_2:\n",
    "    data_train_2[column] = data_train_2[column].fillna(data_train_2[column].mean())\n",
    "for column in data_test_2:\n",
    "    data_test_2[column] = data_test_2[column].fillna(data_train_2[column].mean())\n",
    "    \n",
    "y_train = data_train_2['type'].values\n",
    "X_train = data_train_2.values\n",
    "y_train = y_train.reshape(len(y_train), 1)\n",
    "\n",
    "y_test = data_test_2['type'].values\n",
    "X_test = data_test_2.values\n",
    "y_test = y_test.reshape(len(y_test), 1)"
   ]
  },
  {
   "cell_type": "code",
   "execution_count": 36,
   "metadata": {},
   "outputs": [
    {
     "name": "stderr",
     "output_type": "stream",
     "text": [
      "c:\\python37-32\\lib\\site-packages\\sklearn\\utils\\validation.py:761: DataConversionWarning: A column-vector y was passed when a 1d array was expected. Please change the shape of y to (n_samples, ), for example using ravel().\n",
      "  y = column_or_1d(y, warn=True)\n"
     ]
    },
    {
     "name": "stdout",
     "output_type": "stream",
     "text": [
      "\n",
      "\n",
      "Estimated beta1: \n",
      " [[ 5.26257602e-06 -1.62966368e-03 -2.22565613e-03  1.14083387e-01\n",
      "   8.38622097e-02 -2.19580759e-01 -2.14798043e-01 -4.69935525e-02\n",
      "  -9.92427332e-02  3.68200589e-01  2.19763965e-01  6.46641217e-02\n",
      "   1.38735823e-01 -1.21599948e-01  3.51779478e-02 -4.66686609e-02\n",
      "  -1.11707880e-01  3.33684760e-02 -3.41219117e-02  2.72146454e-02\n",
      "  -1.54403567e-01 -1.84798394e-01 -2.16287951e-01 -2.64330165e-03\n",
      "   1.73398819e-01  8.60474354e-02  4.21878246e-03 -5.62683238e-02\n",
      "   2.42036506e-03 -5.39177863e-02  2.52146939e-02  5.01234628e-02\n",
      "  -1.00172897e-02 -2.17094720e-02 -6.25703871e-04 -2.25419720e-01\n",
      "   4.36062305e-02 -1.49492296e-02 -1.42016994e-02  5.99219074e-03\n",
      "   1.12481930e-01 -1.00703901e-01 -1.05853142e-01 -1.06200832e-01\n",
      "   2.89966853e-02  9.17640234e-02  8.81036606e-02 -9.27171409e-02\n",
      "  -3.89487565e-02 -2.87746192e-02 -2.28214137e-02 -2.52820890e-02\n",
      "  -8.14810294e-02 -1.03820628e-01 -2.11297792e-02 -1.85874003e-02\n",
      "  -1.46813875e-02 -1.15627965e-02  1.04486392e-01 -1.18281791e-01\n",
      "   8.06978087e-02 -2.51812300e-02  8.03281198e-02  8.22190523e-02\n",
      "   8.47502082e-02  8.75841632e-02  7.70768473e-03  3.81581167e-02\n",
      "  -8.51363337e-02 -8.50587736e-03 -4.47886684e-03 -1.95627502e-02\n",
      "  -1.58854139e-03 -5.51131531e-02  8.87192564e-02  8.52867060e-02\n",
      "   8.14265154e-02  9.81183356e-02  8.69595566e-02 -9.81787822e-02\n",
      "   9.38939695e-03  1.51462955e-03  1.07336791e-02  1.28663858e-02\n",
      "  -5.53989924e-02 -6.44786538e-02  1.05765454e-03  2.44241469e-04\n",
      "  -8.04163145e-04 -6.38331077e-02 -4.47180616e-02 -4.34577382e-02\n",
      "  -4.23145568e-02 -8.40089452e-02  1.62888489e-01 -3.41766854e-02\n",
      "  -1.15120734e-02 -1.02615643e-01  6.92075170e-02  2.13899086e-02\n",
      "  -3.56386475e-02 -5.36596201e-02 -4.86764840e-02 -1.05912697e-01\n",
      "  -7.71922470e-05 -1.47066702e-01 -1.36632635e-01 -7.39140619e-02\n",
      "   9.50170925e-02  5.17855547e-02 -1.20416407e-01 -1.64847827e-01\n",
      "   1.94764046e-02  4.24250664e-03 -1.05628178e-02  3.83760694e-03\n",
      "   4.67178783e-02 -4.76029502e-02  6.97447741e-01]]\n",
      "Estimated beta0: \n",
      " [-4.0135056]\n",
      "\n",
      "\n",
      "Test Set Confusion matrix:\n",
      "[[6069    5]\n",
      " [  38   13]]\n",
      "The training classification accuracy is:  0.9947017060506517\n",
      "The testing classification accuracy is:  0.9929795918367347\n",
      "The precision score on the test set is:  0.7222222222222222\n"
     ]
    },
    {
     "name": "stderr",
     "output_type": "stream",
     "text": [
      "c:\\python37-32\\lib\\site-packages\\sklearn\\linear_model\\logistic.py:758: ConvergenceWarning: lbfgs failed to converge. Increase the number of iterations.\n",
      "  \"of iterations.\", ConvergenceWarning)\n"
     ]
    }
   ],
   "source": [
    "from sklearn.linear_model import LogisticRegression\n",
    "\n",
    "clf = LogisticRegression(random_state=0, solver='lbfgs', multi_class='multinomial').fit(X_train, y_train)\n",
    "\n",
    "\n",
    "# L2 Regularization parameter\n",
    "print('\\n')\n",
    "# print(\"The optimized L2 regularization paramater id:\", clf.C_)\n",
    "\n",
    "# The coefficients\n",
    "print('Estimated beta1: \\n', clf.coef_)\n",
    "print('Estimated beta0: \\n', clf.intercept_)\n",
    "\n",
    "# Metrics\n",
    "print('\\n')\n",
    "print('Test Set Confusion matrix:') \n",
    "print(confusion_matrix(y_test, clf.predict(X_test)))\n",
    "\n",
    "train_score = clf.score(X_train, y_train)\n",
    "test_score = clf.score(X_test, y_test)\n",
    "y_prediction = clf.predict(X_test)\n",
    "test_precision = precision_score(y_test, y_prediction)\n",
    "print('The training classification accuracy is: ', train_score)\n",
    "print('The testing classification accuracy is: ', test_score)\n",
    "print('The precision score on the test set is: ', test_precision)"
   ]
  },
  {
   "cell_type": "markdown",
   "metadata": {},
   "source": [
    "## APCOMP209a - Homework Question"
   ]
  },
  {
   "cell_type": "markdown",
   "metadata": {
    "collapsed": true
   },
   "source": [
    "\n",
    "This problem walks you through the derivation of the **likelihood equations** for a generalized linear model (GLM). Suppose that the random component of the GLM is in the univariate natural exponential family, so that\n",
    "$$f(y_i|\\theta_i) = h(y_i) e^{y_i\\theta_i - b(\\theta_i)}$$\n",
    "Define the individual log-likelihood for each observation $i$ as\n",
    "$$l_i(\\theta_i) \\equiv \\log f(y_i|\\theta_i)$$\n",
    "with linear predictor\n",
    "$$\\eta_i = x_i^T\\beta = g(\\mu_i)$$\n",
    "for some link function $g$ and where $\\mu_i=E(Y_i)$.\n",
    "\n",
    "1. Use the above expressions to write a simplified expression for the log-likelihood $l(\\theta)$ for the entire dataset, $y_1, \\dots, y_n$.\n",
    "\n",
    "2. Use the chain rule to express $\\frac{\\partial l_i}{\\partial \\beta_j}$ in terms of the derivatives of $l_i, \\theta_i, \\mu_i$, and $\\eta_i$. (*Hint*: Think carefully about which variables are related to which, and in what way. For example, for which of the above variables do you know the derivative with respect to $\\beta_j$?)\n",
    "\n",
    "3. Compute the derivatives for $\\frac{\\partial l_i}{\\partial \\theta_i}$ and $\\frac{\\partial \\eta_i}{\\partial \\beta_j}$.\n",
    "\n",
    "4. Express $\\mu_i$ in terms of $\\theta_i$, and use this relationship to compute $\\frac{\\partial \\theta_i}{\\partial \\mu_i}$. (\\emph{Hint}: Recall the cumulant function of a natural exponential family, and assume that you can write $\\partial f/\\partial g = (\\partial g / \\partial f)^{-1}$.)\n",
    "\n",
    "5. Express $\\eta_i$ in terms of $\\mu_i$. Using the same hint as the above, compute $\\frac{\\partial \\mu_i}{\\partial \\eta_i}$.\n",
    "\n",
    "6. Put all of the above parts together to write an expression for $\\frac{\\partial l}{\\partial \\beta_j}$. Use matrix notation to write this expression as\n",
    "$$\\nabla_{\\beta} l(\\beta) = XDV^{-1}(Y - \\mu) = 0$$\n",
    "That is, compute the matrices $D$ and $V$ such that this equation holds.\n",
    "\n",
    "7. If we use the canonical link function, how do your answers to part (6) simplify?\n",
    "\n",
    "8. Finally, compute the above likelihood equations in the case of logistic regression, and show that this is equivalent to the solution given in lecture.\n"
   ]
  },
  {
   "cell_type": "code",
   "execution_count": null,
   "metadata": {
    "collapsed": true
   },
   "outputs": [],
   "source": []
  }
 ],
 "metadata": {
  "anaconda-cloud": {},
  "kernelspec": {
   "display_name": "Python 3",
   "language": "python",
   "name": "python3"
  },
  "language_info": {
   "codemirror_mode": {
    "name": "ipython",
    "version": 3
   },
   "file_extension": ".py",
   "mimetype": "text/x-python",
   "name": "python",
   "nbconvert_exporter": "python",
   "pygments_lexer": "ipython3",
   "version": "3.7.0"
  }
 },
 "nbformat": 4,
 "nbformat_minor": 1
}
